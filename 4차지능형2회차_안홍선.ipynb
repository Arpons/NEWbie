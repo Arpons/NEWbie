{
 "cells": [
  {
   "cell_type": "markdown",
   "metadata": {},
   "source": [
    "# Question2"
   ]
  },
  {
   "cell_type": "code",
   "execution_count": 1,
   "metadata": {},
   "outputs": [
    {
     "name": "stdout",
     "output_type": "stream",
     "text": [
      "정수 입력 : 15\n",
      "입력하신 숫자는 15은(는) 양수 입니다.\n"
     ]
    }
   ],
   "source": [
    "input_date = int(input(\"정수 입력 : \"))\n",
    "if input_date < 0:\n",
    "    print(\"입력하신 숫자는 {} 은(는) 음수 입니다.\".format(input_date))\n",
    "elif input_date > 0:\n",
    "    print(\"입력하신 숫자는 {} 은(는) 양수 입니다.\".format(input_date))\n",
    "else:\n",
    "    print(\"입력하신 숫자는 {} 은(는) 0 입니다.\".format(input_date))"
   ]
  },
  {
   "cell_type": "code",
   "execution_count": 73,
   "metadata": {},
   "outputs": [
    {
     "name": "stdout",
     "output_type": "stream",
     "text": [
      "=== 기차 탑승권 계산기 ===\n",
      "1. 좌석지정 2. 좌석 미지정 : 2\n",
      "나이 입력 : 19\n",
      "1.군인 2.노약자,임산부 3.국가유공자 4.해당사항 없음 : 4\n",
      "기차 탑승권 금액은 39000.0 입니다.\n"
     ]
    }
   ],
   "source": [
    "print(\"=== 기차 탑승권 계산기 ===\")\n",
    "seat = int(input(\"1. 좌석지정 2. 좌석 미지정 : \"))\n",
    "age = int(input(\"나이 입력 : \"))\n",
    "option = int(input(\"1.군인 2.노약자,임산부 3.국가유공자 4.해당사항 없음 : \"))\n",
    "cost = 60000\n",
    "if seat == 2 :\n",
    "    cost = cost - cost * (15/100)\n",
    "else : \n",
    "    cost = 60000\n",
    "    \n",
    "if age < 20:\n",
    "    cost = cost - 60000 * (20/100)\n",
    "if option == 1:\n",
    "    cost = cost - 60000 * (5/100)\n",
    "elif option == 2:\n",
    "    cost = cost - 60000 * (50/100)\n",
    "elif option == 3:\n",
    "    cost = cost - 60000 * (60/100)\n",
    "else:\n",
    "    cost\n",
    "    \n",
    "\n",
    "print(\"기차 탑승권 금액은 {} 입니다.\".format(cost))\n"
   ]
  },
  {
   "cell_type": "markdown",
   "metadata": {},
   "source": [
    "# Question 3"
   ]
  },
  {
   "cell_type": "code",
   "execution_count": 26,
   "metadata": {},
   "outputs": [
    {
     "name": "stdout",
     "output_type": "stream",
     "text": [
      "[3, 5, 6, 9, 10, 12, 15, 15, 18, 20, 21, 24, 25, 27, 30, 30, 33, 35, 36, 39, 40, 42, 45, 45, 48, 50] "
     ]
    }
   ],
   "source": [
    "a = []\n",
    "for i in range(1, 51):\n",
    "    if  i*3 <= 50 :\n",
    "        a.append(i*3)\n",
    "    if i*5 <= 50 :\n",
    "        a.append(i*5)\n",
    "a.sort()\n",
    "print(a, end=\" \")"
   ]
  },
  {
   "cell_type": "code",
   "execution_count": 4,
   "metadata": {
    "scrolled": true
   },
   "outputs": [
    {
     "name": "stdout",
     "output_type": "stream",
     "text": [
      "정수 입력 : 5245\n",
      "[5245, 5245, 5245, 5245]\n",
      "합은 0 입니다.\n"
     ]
    }
   ],
   "source": [
    "add1 = []\n",
    "add2 = 0\n",
    "num = input(\"정수 입력 : \")\n",
    "\n",
    "for i in range(1, len(num) + 1):\n",
    "    add1.append(int(num[0:len(num)]))\n",
    "    if i == len(num):\n",
    "        print(add1)\n",
    "        print(\"합은 {} 입니다.\".format(add2))\n",
    "\n"
   ]
  },
  {
   "cell_type": "code",
   "execution_count": 99,
   "metadata": {},
   "outputs": [
    {
     "data": {
      "text/plain": [
       "6"
      ]
     },
     "execution_count": 99,
     "metadata": {},
     "output_type": "execute_result"
    }
   ],
   "source": [
    "a = [1,2,3]\n",
    "sum(a)"
   ]
  },
  {
   "cell_type": "markdown",
   "metadata": {},
   "source": [
    "# Question4"
   ]
  },
  {
   "cell_type": "code",
   "execution_count": 34,
   "metadata": {},
   "outputs": [
    {
     "name": "stdout",
     "output_type": "stream",
     "text": [
      "6 8 12 "
     ]
    }
   ],
   "source": [
    "arr = [7,6,8,9,5,12,25,3,1]\n",
    "for i in range(0,9):\n",
    "    if arr[i] % 2 == 0:\n",
    "        print(arr[i], end=\" \")"
   ]
  },
  {
   "cell_type": "code",
   "execution_count": null,
   "metadata": {},
   "outputs": [],
   "source": [
    "a = [70,60,55,75,95,90,80,80,85,100]\n"
   ]
  }
 ],
 "metadata": {
  "kernelspec": {
   "display_name": "Python 3",
   "language": "python",
   "name": "python3"
  },
  "language_info": {
   "codemirror_mode": {
    "name": "ipython",
    "version": 3
   },
   "file_extension": ".py",
   "mimetype": "text/x-python",
   "name": "python",
   "nbconvert_exporter": "python",
   "pygments_lexer": "ipython3",
   "version": "3.7.1"
  }
 },
 "nbformat": 4,
 "nbformat_minor": 2
}
