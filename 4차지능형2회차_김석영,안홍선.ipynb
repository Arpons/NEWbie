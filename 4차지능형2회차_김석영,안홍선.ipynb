{
 "cells": [
  {
   "cell_type": "code",
   "execution_count": 1,
   "metadata": {},
   "outputs": [
    {
     "name": "stdout",
     "output_type": "stream",
     "text": [
      "=============== 학점관리 프로그램 =============\n",
      "[1] 성적입력 [2] 전체조회 [3]종료 : 2\n",
      "===============================================\n",
      "[1] 성적입력 [2] 전체조회 [3]종료 : 3\n",
      "===============================================\n"
     ]
    }
   ],
   "source": [
    "print(\"=============== 학점관리 프로그램 =============\")\n",
    "array = []\n",
    "db = []\n",
    "while True:\n",
    "    num1 = int(input(\"[1] 성적입력 [2] 전체조회 [3]종료 : \"))\n",
    "    if num1 == 3:\n",
    "        print(\"===============================================\")\n",
    "        break\n",
    "    print(\"===============================================\")"
   ]
  },
  {
   "cell_type": "code",
   "execution_count": 3,
   "metadata": {},
   "outputs": [
    {
     "name": "stdout",
     "output_type": "stream",
     "text": [
      "=============== 학점관리 프로그램 =============\n",
      "[1] 성적입력 [2] 전체조회 [3]종료 : 1\n",
      "이름입력 : 이은비\n",
      "학번입력 : 0001\n",
      "Python 점수입력 : 93\n",
      "R 점수입력 : 85\n",
      "통계 점수입력 : 99\n",
      "[['이은비', '0001', '93', '85', '99']]\n",
      "===============================================\n",
      "[1] 성적입력 [2] 전체조회 [3]종료 : 1\n",
      "이름입력 : 장진\n",
      "학번입력 : 0002\n",
      "Python 점수입력 : 88\n",
      "R 점수입력 : 77\n",
      "통계 점수입력 : 100\n",
      "[['이은비', '0001', '93', '85', '99'], ['장진', '0002', '88', '77', '100']]\n",
      "===============================================\n",
      "[1] 성적입력 [2] 전체조회 [3]종료 : 3\n",
      "===============================================\n"
     ]
    }
   ],
   "source": [
    "print(\"=============== 학점관리 프로그램 =============\")\n",
    "array = []\n",
    "db = []\n",
    "while True:\n",
    "    num1 = int(input(\"[1] 성적입력 [2] 전체조회 [3]종료 : \"))\n",
    "    if num1 == 1:\n",
    "        name = input(\"이름입력 : \")\n",
    "        array.append(name)\n",
    "        st_num = input(\"학번입력 : \")\n",
    "        array.append(st_num)\n",
    "        python = input(\"Python 점수입력 : \")\n",
    "        array.append(python)\n",
    "        r = input(\"R 점수입력 : \")\n",
    "        array.append(r)\n",
    "        x = input(\"통계 점수입력 : \")\n",
    "        array.append(x)\n",
    "        db.append(array)\n",
    "        array = []\n",
    "        print(db)\n",
    "    if num1 == 3:\n",
    "        print(\"===============================================\")\n",
    "        break\n",
    "    print(\"===============================================\")"
   ]
  },
  {
   "cell_type": "code",
   "execution_count": 1,
   "metadata": {
    "scrolled": false
   },
   "outputs": [
    {
     "name": "stdout",
     "output_type": "stream",
     "text": [
      "=============== 학점관리 프로그램 =============\n",
      "[1] 성적입력 [2] 전체조회 [3]종료 : 1\n",
      "이름입력 : 이은비\n",
      "학번입력 : 0001\n",
      "Python 점수입력 : 93\n",
      "R 점수입력 : 85\n",
      "통계 점수입력 : 99\n",
      "[['이은비', '0001', 93, 85, 99, 92, 'A']]\n",
      "===============================================\n",
      "[1] 성적입력 [2] 전체조회 [3]종료 : 1\n",
      "이름입력 : 장진\n",
      "학번입력 : 0002\n",
      "Python 점수입력 : 88\n",
      "R 점수입력 : 77\n",
      "통계 점수입력 : 100\n",
      "[['이은비', '0001', 93, 85, 99, 92, 'A'], ['장진', '0002', 88, 77, 100, 88, 'B']]\n",
      "===============================================\n",
      "[1] 성적입력 [2] 전체조회 [3]종료 : 2\n",
      "===================전체 조회===================\n",
      "이름   학번   Python   R    통계    평균    학점\n",
      "이은비    0001    93    85    99    92    A\n",
      "장진    0002    88    77    100    88    B\n",
      "===============================================\n",
      "[1] 성적입력 [2] 전체조회 [3]종료 : 3\n",
      "===============================================\n"
     ]
    }
   ],
   "source": [
    "print(\"=============== 학점관리 프로그램 =============\")\n",
    "array = []\n",
    "db = []\n",
    "avg = 0\n",
    "score = 0\n",
    "while True:\n",
    "    num1 = int(input(\"[1] 성적입력 [2] 전체조회 [3]종료 : \"))\n",
    "    if num1 == 1:\n",
    "        name = input(\"이름입력 : \")\n",
    "        array.append(name)\n",
    "        st_num = input(\"학번입력 : \")\n",
    "        array.append(st_num)\n",
    "        python = int(input(\"Python 점수입력 : \"))\n",
    "        array.append(python)\n",
    "        r = int(input(\"R 점수입력 : \"))\n",
    "        array.append(r)\n",
    "        x = int(input(\"통계 점수입력 : \"))\n",
    "        array.append(x)\n",
    "        avg = (python + x + r)//3 \n",
    "        array.append(avg)\n",
    "        if avg >= 90:\n",
    "            score = 'A'\n",
    "        elif avg >= 80:\n",
    "            score = 'B'\n",
    "        elif avg >= 70:\n",
    "            score = 'C'\n",
    "        elif avg >= 60:\n",
    "            score = 'D'\n",
    "        else:\n",
    "            score = 'F'\n",
    "        array.append(score)\n",
    "        db.append(array)\n",
    "        array = []\n",
    "        print(db)\n",
    "    elif num1 == 2:\n",
    "        print(\"===================전체 조회===================\")\n",
    "        print(\"이름   학번   Python   R    통계    평균    학점\")\n",
    "        avg = db\n",
    "        for i in range(0,len(db)):\n",
    "            print(\"{}    {}    {}    {}    {}    {}    {}\".format(db[i][0], db[i][1], db[i][2],db[i][3],db[i][4],db[i][5],db[i][6]))\n",
    "    elif num1 == 3:\n",
    "        print(\"===============================================\")\n",
    "        break\n",
    "    print(\"===============================================\")"
   ]
  },
  {
   "cell_type": "code",
   "execution_count": null,
   "metadata": {},
   "outputs": [
    {
     "name": "stdout",
     "output_type": "stream",
     "text": [
      "=============== 학점관리 프로그램 =============\n",
      "[1] 성적입력 [2] 전체조회 [3]종료 : 1\n",
      "이름입력 : sdfdf\n",
      "학번입력 : 321\n",
      "Python 점수입력 : 32131\n",
      "R 점수입력 : 11\n",
      "통계 점수입력 : 11\n",
      "[['sdfdf', '321', 32131, 11, 11, 10717, 'A']]\n",
      "===============================================\n",
      "[1] 성적입력 [2] 전체조회 [3]종료 : 2\n",
      "===================전체 조회===================\n",
      "이름\t학번\tPython\tR\t통계\t평균\t학점\n",
      "sdfdf\t321\t32131\t11\t11\t10717\tA\n",
      "===============================================\n"
     ]
    }
   ],
   "source": [
    "print(\"=============== 학점관리 프로그램 =============\")\n",
    "array = []\n",
    "db = []\n",
    "avg = 0\n",
    "score = 0\n",
    "while True:\n",
    "    num1 = int(input(\"[1] 성적입력 [2] 전체조회 [3]종료 : \"))\n",
    "    if num1 == 1:\n",
    "        name = input(\"이름입력 : \")\n",
    "        array.append(name)\n",
    "        st_num = input(\"학번입력 : \")\n",
    "        array.append(st_num)\n",
    "        python = int(input(\"Python 점수입력 : \"))\n",
    "        array.append(python)\n",
    "        r = int(input(\"R 점수입력 : \"))\n",
    "        array.append(r)\n",
    "        x = int(input(\"통계 점수입력 : \"))\n",
    "        array.append(x)\n",
    "        avg = (python + x + r)//3 \n",
    "        array.append(avg)\n",
    "        if avg >= 90:\n",
    "            score = 'A'\n",
    "        elif avg >= 80:\n",
    "            score = 'B'\n",
    "        elif avg >= 70:\n",
    "            score = 'C'\n",
    "        elif avg >= 60:\n",
    "            score = 'D'\n",
    "        else:\n",
    "            score = 'F'\n",
    "        array.append(score)\n",
    "        db.append(array)\n",
    "        array = []\n",
    "        print(db)\n",
    "    elif num1 == 2:\n",
    "        print(\"===================전체 조회===================\")\n",
    "        print(\"이름\\t학번\\tPython\\tR\\t통계\\t평균\\t학점\")\n",
    "        avg = db\n",
    "        for i in range(0,len(db)):\n",
    "            print(\"{}\\t{}\\t{}\\t{}\\t{}\\t{}\\t{}\".format(db[i][0], db[i][1], db[i][2],db[i][3],db[i][4],db[i][5],db[i][6]))\n",
    "    elif num1 == 3:\n",
    "        print(\"===============================================\")\n",
    "        break\n",
    "    print(\"===============================================\")"
   ]
  }
 ],
 "metadata": {
  "kernelspec": {
   "display_name": "Python 3",
   "language": "python",
   "name": "python3"
  },
  "language_info": {
   "codemirror_mode": {
    "name": "ipython",
    "version": 3
   },
   "file_extension": ".py",
   "mimetype": "text/x-python",
   "name": "python",
   "nbconvert_exporter": "python",
   "pygments_lexer": "ipython3",
   "version": "3.7.1"
  }
 },
 "nbformat": 4,
 "nbformat_minor": 2
}
